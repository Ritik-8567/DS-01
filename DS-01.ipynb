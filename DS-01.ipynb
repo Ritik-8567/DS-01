{
 "cells": [
  {
   "cell_type": "code",
   "execution_count": 2,
   "id": "07182918",
   "metadata": {},
   "outputs": [
    {
     "name": "stdout",
     "output_type": "stream",
     "text": [
      "Collecting BeautifulSoup4\n",
      "  Using cached beautifulsoup4-4.12.2-py3-none-any.whl (142 kB)\n",
      "Collecting soupsieve>1.2\n",
      "  Downloading soupsieve-2.3.2.post1-py3-none-any.whl (37 kB)\n",
      "Installing collected packages: soupsieve, BeautifulSoup4\n",
      "Successfully installed BeautifulSoup4-4.12.2 soupsieve-2.3.2.post1\n",
      "Note: you may need to restart the kernel to use updated packages.\n"
     ]
    }
   ],
   "source": [
    "pip install BeautifulSoup4"
   ]
  },
  {
   "cell_type": "code",
   "execution_count": 1,
   "id": "df566b0c",
   "metadata": {},
   "outputs": [
    {
     "name": "stderr",
     "output_type": "stream",
     "text": [
      "c:\\users\\ritik\\appdata\\local\\programs\\python\\python36\\lib\\site-packages\\requests\\__init__.py:104: RequestsDependencyWarning: urllib3 (1.26.16) or chardet (5.0.0)/charset_normalizer (3.0.1) doesn't match a supported version!\n",
      "  RequestsDependencyWarning)\n"
     ]
    }
   ],
   "source": [
    "import os\n",
    "import requests\n",
    "from bs4 import BeautifulSoup"
   ]
  },
  {
   "cell_type": "code",
   "execution_count": 2,
   "id": "d9df1bab",
   "metadata": {},
   "outputs": [],
   "source": [
    "Google_Image = 'https://www.google.com/search?site=&tbm=isch&source=hp&biw=1873&bih=990&'"
   ]
  },
  {
   "cell_type": "code",
   "execution_count": 3,
   "id": "83ea5e15",
   "metadata": {},
   "outputs": [],
   "source": [
    "search_agent = {\n",
    "    'User-Agent': 'Mozilla/5.0 (Windows NT 10.0; Win64; x64) AppleWebKit/537.36 (KHTML, like Gecko) Chrome/85.0.4183.83 Safari/537.36',\n",
    "    'Accept': 'text/html,application/xhtml+xml,application/xml;q=0.9,*/*;q=0.8',\n",
    "    'Accept-Charset': 'ISO-8859-1,utf-8;q=0.7,*;q=0.3',\n",
    "    'Accept-Encoding': 'none',\n",
    "    'Accept-Language': 'en-US,en;q=0.8',\n",
    "    'Connection': 'keep-alive',\n",
    "} "
   ]
  },
  {
   "cell_type": "code",
   "execution_count": 4,
   "id": "6eef2f3c",
   "metadata": {},
   "outputs": [],
   "source": [
    "Image_Folder = 'Images_1'"
   ]
  },
  {
   "cell_type": "code",
   "execution_count": 5,
   "id": "c36a7fce",
   "metadata": {},
   "outputs": [],
   "source": [
    "def main():\n",
    "    if not os.path.exists(Image_Folder):\n",
    "        os.mkdir(Image_Folder)\n",
    "    download_images()"
   ]
  },
  {
   "cell_type": "code",
   "execution_count": 6,
   "id": "23c5fd55",
   "metadata": {},
   "outputs": [],
   "source": [
    "def download_images():\n",
    "    data = input('Enter your search keyword: ')\n",
    "    num_images = 50  # Change the number of images to 50\n",
    "\n",
    "    print('Searching Images....')\n",
    "\n",
    "    search_url = Google_Image + 'q=' + data \n",
    "\n",
    "    response = requests.get(search_url, headers=search_agent)\n",
    "    html = response.text \n",
    "\n",
    "    b_soup = BeautifulSoup(html, 'html.parser') \n",
    "    results = b_soup.findAll('img', {'class': 'rg_i Q4LuWd'})\n",
    "\n",
    "    count = 0\n",
    "    imagelinks= []\n",
    "    for res in results:\n",
    "        try:\n",
    "            link = res['data-src']\n",
    "            imagelinks.append(link)\n",
    "            count = count + 1\n",
    "            if count >= num_images:\n",
    "                break\n",
    "        except KeyError:\n",
    "            continue\n",
    "\n",
    "    print(f'Found {len(imagelinks)} images')\n",
    "    print('Start downloading...')\n",
    "    for i, imagelink in enumerate(imagelinks):\n",
    "        # open each image link and save the file\n",
    "        response = requests.get(imagelink)\n",
    "\n",
    "        imagename = Image_Folder + '/' + data + str(i+1) + '.jpg'\n",
    "        with open(imagename, 'wb') as file:\n",
    "            file.write(response.content)\n",
    "\n",
    "    if len(imagelinks) == 0:\n",
    "       print(\"No images found.\")\n",
    "    else:\n",
    "        print(\"Download Completed!\")"
   ]
  },
  {
   "cell_type": "code",
   "execution_count": 7,
   "id": "7b16ec6d",
   "metadata": {},
   "outputs": [
    {
     "name": "stdout",
     "output_type": "stream",
     "text": [
      "Enter your search keyword: Vin Diesel\n",
      "Searching Images....\n",
      "Found 50 images\n",
      "Start downloading...\n",
      "Download Completed!\n"
     ]
    }
   ],
   "source": [
    "if __name__ == '__main__':\n",
    "    main()"
   ]
  },
  {
   "cell_type": "code",
   "execution_count": null,
   "id": "162b4adf",
   "metadata": {},
   "outputs": [],
   "source": []
  }
 ],
 "metadata": {
  "kernelspec": {
   "display_name": "Python 3",
   "language": "python",
   "name": "python3"
  },
  "language_info": {
   "codemirror_mode": {
    "name": "ipython",
    "version": 3
   },
   "file_extension": ".py",
   "mimetype": "text/x-python",
   "name": "python",
   "nbconvert_exporter": "python",
   "pygments_lexer": "ipython3",
   "version": "3.6.8"
  }
 },
 "nbformat": 4,
 "nbformat_minor": 5
}
